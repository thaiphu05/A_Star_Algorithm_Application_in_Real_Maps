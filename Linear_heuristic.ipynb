{
 "cells": [
  {
   "cell_type": "code",
   "execution_count": 2,
   "id": "6a5baf32",
   "metadata": {},
   "outputs": [],
   "source": [
    "import osmnx as ox\n",
    "import networkx as nx\n",
    "import numpy as np\n",
    "from sklearn.linear_model import LinearRegression\n",
    "from math import radians, cos, sqrt\n",
    "import random"
   ]
  },
  {
   "cell_type": "code",
   "execution_count": 3,
   "id": "791ba6cb",
   "metadata": {},
   "outputs": [
    {
     "name": "stderr",
     "output_type": "stream",
     "text": [
      "C:\\Users\\admin\\AppData\\Local\\Temp\\ipykernel_4732\\1703869639.py:2: FutureWarning: The `get_undirected` function is deprecated and will be removed in the v2.0.0 release. Replace it with `convert.to_undirected` instead. See the OSMnx v2 migration guide: https://github.com/gboeing/osmnx/issues/1123\n",
      "  G = ox.utils_graph.get_undirected(G)\n"
     ]
    }
   ],
   "source": [
    "G = ox.graph_from_xml('map.osm')\n",
    "G = ox.utils_graph.get_undirected(G)"
   ]
  },
  {
   "cell_type": "code",
   "execution_count": 4,
   "id": "9b85ee10",
   "metadata": {},
   "outputs": [],
   "source": [
    "graph = {node: list(G[node].items()) for node in G.nodes}\n",
    "\n",
    "# Hàm tính khoảng cách Euclidean\n",
    "def euclidean(n1, n2):\n",
    "    lat1, lon1 = G.nodes[n1]['y'], G.nodes[n1]['x']\n",
    "    lat2, lon2 = G.nodes[n2]['y'], G.nodes[n2]['x']\n",
    "    lat_mean = radians((lat1 + lat2) / 2)\n",
    "    dx = (lon2 - lon1) * 111320 * cos(lat_mean)\n",
    "    dy = (lat2 - lat1) * 111320\n",
    "    return sqrt(dx**2 + dy**2)"
   ]
  },
  {
   "cell_type": "code",
   "execution_count": null,
   "id": "859b741c",
   "metadata": {},
   "outputs": [],
   "source": [
    "X = []\n",
    "y = []\n",
    "nodes = list(G.nodes)\n",
    "\n",
    "for _ in range(500):  # tăng số mẫu nếu cần\n",
    "    start, goal = random.sample(nodes, 2)\n",
    "    try:\n",
    "        length = nx.shortest_path_length(G, start, goal, weight='length')\n",
    "        lat1 = G.nodes[start]['y']\n",
    "        lon1 = G.nodes[start]['x']\n",
    "        lat2 = G.nodes[goal]['y']\n",
    "        lon2 = G.nodes[goal]['x']\n",
    "        X.append([lat1, lon1, lat2, lon2])\n",
    "        y.append(length)\n",
    "    except (nx.NetworkXNoPath, KeyError):\n",
    "        continue\n",
    "\n",
    "\n",
    "\n",
    "\n"
   ]
  },
  {
   "cell_type": "code",
   "execution_count": 13,
   "id": "d58461c3",
   "metadata": {},
   "outputs": [
    {
     "name": "stdout",
     "output_type": "stream",
     "text": [
      "Heuristic ML Example:\n",
      "Actual cost: 509.65, Euclid: 176.30, ML heuristic: 363.30\n"
     ]
    }
   ],
   "source": [
    "# Huấn luyện mô hình ML\n",
    "\n",
    "model = LinearRegression()\n",
    "model.fit(X, y)\n",
    "\n",
    "# Dự đoán khoảng cách giữa hai nút\n",
    "def predict_distance(node1, node2):\n",
    "\tlat1 = G.nodes[node1]['y']\n",
    "\tlon1 = G.nodes[node1]['x']\n",
    "\tlat2 = G.nodes[node2]['y']\n",
    "\tlon2 = G.nodes[node2]['x']\n",
    "\treturn model.predict([[lat1, lon1, lat2, lon2]])[0]\n",
    "# So sánh\n",
    "\n",
    "print(\"Heuristic ML Example:\")\n",
    "print(f\"Actual cost: {y[0]:.2f}, Euclid: {X[0][0]:.2f}, ML heuristic: {model.predict([X[0]])[0]:.2f}\")"
   ]
  },
  {
   "cell_type": "code",
   "execution_count": 14,
   "id": "a330c902",
   "metadata": {},
   "outputs": [
    {
     "data": {
      "text/plain": [
       "['ml_heuristic_model.pkl']"
      ]
     },
     "execution_count": 14,
     "metadata": {},
     "output_type": "execute_result"
    }
   ],
   "source": [
    "import joblib\n",
    "\n",
    "\n",
    "# Lưu mô hình\n",
    "joblib.dump(model, 'ml_heuristic_model.pkl')\n"
   ]
  },
  {
   "cell_type": "code",
   "execution_count": 15,
   "id": "bee9f2a5",
   "metadata": {},
   "outputs": [
    {
     "data": {
      "text/plain": [
       "[[176.3007082031378],\n",
       " [713.4469614227661],\n",
       " [685.9420867421086],\n",
       " [339.2260598240756],\n",
       " [1377.648254633071],\n",
       " [1103.898790533426],\n",
       " [368.4631439163934],\n",
       " [747.2890299561996],\n",
       " [485.0840323190047],\n",
       " [788.284483994263],\n",
       " [1173.0853030365272],\n",
       " [722.2156515135599],\n",
       " [1451.7159468050802],\n",
       " [881.3336824151976],\n",
       " [1332.4536013416398],\n",
       " [412.547544249087],\n",
       " [1431.2950536470933],\n",
       " [825.2836586419704],\n",
       " [352.8152601846122],\n",
       " [700.0203715574241],\n",
       " [516.9147806080811],\n",
       " [552.9548674421555],\n",
       " [745.142394536503],\n",
       " [912.2692671833646],\n",
       " [1586.8012916416674],\n",
       " [918.6976405544757],\n",
       " [936.0074088848205],\n",
       " [410.33186324677786],\n",
       " [553.2573816794037],\n",
       " [412.7242186632582],\n",
       " [1281.1350036629808],\n",
       " [633.5219639767568],\n",
       " [388.0237729248948],\n",
       " [1192.1594738808205],\n",
       " [114.69247918986449],\n",
       " [610.4772886067435],\n",
       " [1259.759016997277],\n",
       " [898.7347960446675],\n",
       " [717.0944341648353],\n",
       " [1021.7335463778583],\n",
       " [785.7486213383761],\n",
       " [1367.0927966419665],\n",
       " [575.2267063922769],\n",
       " [999.207984911037],\n",
       " [868.9582813424066],\n",
       " [1212.5792927096725],\n",
       " [1472.3228869792326],\n",
       " [500.01054727789835],\n",
       " [282.6159371091341],\n",
       " [1113.1130367415158],\n",
       " [444.193521503488],\n",
       " [1470.9346907237812],\n",
       " [1581.2412856921524],\n",
       " [1509.167095477577],\n",
       " [725.7375768063731],\n",
       " [682.9991153506834],\n",
       " [921.6441779742361],\n",
       " [1152.109848110469],\n",
       " [358.83648255104976],\n",
       " [478.8508421200994],\n",
       " [784.8812727129264],\n",
       " [479.9475016479703],\n",
       " [339.1377601406194],\n",
       " [1332.8508051386648],\n",
       " [409.68001555542986],\n",
       " [752.7283445094824],\n",
       " [1768.4662122808293],\n",
       " [500.76479208258087],\n",
       " [322.7630661545004],\n",
       " [1270.7134784784998],\n",
       " [1152.1641652607516],\n",
       " [1228.8026380039564],\n",
       " [1852.6131252995376],\n",
       " [1092.4576713835818],\n",
       " [664.2428676762518],\n",
       " [1536.4220766254825],\n",
       " [1906.0535126991117],\n",
       " [682.9942767469884],\n",
       " [598.4164097384652],\n",
       " [547.8063612191268],\n",
       " [716.8537467254279],\n",
       " [666.9327533281867],\n",
       " [1472.1559727433842],\n",
       " [1508.7074737538721],\n",
       " [1105.913371251852],\n",
       " [1008.9919755330493],\n",
       " [477.88952465518395],\n",
       " [1229.0651522661108],\n",
       " [1366.0681206701408],\n",
       " [1813.4089740970046],\n",
       " [860.3548393501308],\n",
       " [180.15920189733896],\n",
       " [932.277306310853],\n",
       " [1020.7116504700128],\n",
       " [1396.3208612859044],\n",
       " [720.7006012907569],\n",
       " [643.9978571980652],\n",
       " [786.7405857292745],\n",
       " [991.5302570761845],\n",
       " [576.601237405072]]"
      ]
     },
     "execution_count": 15,
     "metadata": {},
     "output_type": "execute_result"
    }
   ],
   "source": [
    "X"
   ]
  }
 ],
 "metadata": {
  "kernelspec": {
   "display_name": "Python 3",
   "language": "python",
   "name": "python3"
  },
  "language_info": {
   "codemirror_mode": {
    "name": "ipython",
    "version": 3
   },
   "file_extension": ".py",
   "mimetype": "text/x-python",
   "name": "python",
   "nbconvert_exporter": "python",
   "pygments_lexer": "ipython3",
   "version": "3.12.4"
  }
 },
 "nbformat": 4,
 "nbformat_minor": 5
}
